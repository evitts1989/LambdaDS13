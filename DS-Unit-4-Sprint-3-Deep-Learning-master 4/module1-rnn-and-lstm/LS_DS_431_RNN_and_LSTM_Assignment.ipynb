{
 "cells": [
  {
   "cell_type": "markdown",
   "metadata": {
    "Collapsed": "false"
   },
   "source": [
    "<img align=\"left\" src=\"https://lever-client-logos.s3.amazonaws.com/864372b1-534c-480e-acd5-9711f850815c-1524247202159.png\" width=200>\n",
    "<br></br>\n",
    "<br></br>\n",
    "\n",
    "## *Data Science Unit 4 Sprint 3 Assignment 1*\n",
    "\n",
    "# Recurrent Neural Networks and Long Short Term Memory (LSTM)\n",
    "\n",
    "![Monkey at a typewriter](https://upload.wikimedia.org/wikipedia/commons/thumb/3/3c/Chimpanzee_seated_at_typewriter.jpg/603px-Chimpanzee_seated_at_typewriter.jpg)\n",
    "\n",
    "It is said that [infinite monkeys typing for an infinite amount of time](https://en.wikipedia.org/wiki/Infinite_monkey_theorem) will eventually type, among other things, the complete works of Wiliam Shakespeare. Let's see if we can get there a bit faster, with the power of Recurrent Neural Networks and LSTM.\n",
    "\n",
    "This text file contains the complete works of Shakespeare: https://www.gutenberg.org/files/100/100-0.txt\n",
    "\n",
    "Use it as training data for an RNN - you can keep it simple and train character level, and that is suggested as an initial approach.\n",
    "\n",
    "Then, use that trained RNN to generate Shakespearean-ish text. Your goal - a function that can take, as an argument, the size of text (e.g. number of characters or lines) to generate, and returns generated text of that size.\n",
    "\n",
    "Note - Shakespeare wrote an awful lot. It's OK, especially initially, to sample/use smaller data and parameters, so you can have a tighter feedback loop when you're trying to get things running. Then, once you've got a proof of concept - start pushing it more!"
   ]
  },
  {
   "cell_type": "code",
   "execution_count": 1,
   "metadata": {
    "Collapsed": "false",
    "colab": {},
    "colab_type": "code",
    "id": "Ltj1je1fp5rO"
   },
   "outputs": [],
   "source": [
    "import requests\n",
    "from tensorflow.keras.preprocessing import sequence\n",
    "from tensorflow.keras.models import Sequential\n",
    "from tensorflow.keras.layers import Dense, Embedding\n",
    "from tensorflow.keras.layers import LSTM\n",
    "from tensorflow.keras.callbacks import LambdaCallback\n",
    "from tensorflow.keras.optimizers import RMSprop"
   ]
  },
  {
   "cell_type": "code",
   "execution_count": 2,
   "metadata": {
    "Collapsed": "false"
   },
   "outputs": [],
   "source": [
    "import numpy as np\n",
    "import random\n",
    "import sys\n",
    "import os"
   ]
  },
  {
   "cell_type": "code",
   "execution_count": 3,
   "metadata": {
    "Collapsed": "false"
   },
   "outputs": [],
   "source": [
    "data = []\n",
    "with open(\"shakespeare.txt\", 'r', encoding='utf-8') as f:\n",
    "    data.append(f.read())"
   ]
  },
  {
   "cell_type": "code",
   "execution_count": 48,
   "metadata": {
    "Collapsed": "false"
   },
   "outputs": [
    {
     "data": {
      "text/plain": [
       "'\\ufeff\\nProject Gutenberg’s The Complete Works of William Shakespeare, by William\\nShakespeare\\n\\nThis eBook is for the use of anyone anywhere in the United States and\\nmost other parts of the world at no cost and with almost no restrictions\\nwhatsoever.  You may copy it, give it away or re-use it under the terms\\nof the Project Gutenberg License included with this eBook or online at\\nwww.gutenberg.org.  If you are not located in the United States, you’ll\\nhave to check the laws of the country where you are l'"
      ]
     },
     "execution_count": 48,
     "metadata": {},
     "output_type": "execute_result"
    }
   ],
   "source": [
    "data[0][:500]"
   ]
  },
  {
   "cell_type": "code",
   "execution_count": 4,
   "metadata": {
    "Collapsed": "false"
   },
   "outputs": [],
   "source": [
    "text = \" \".join(data)\n",
    "\n",
    "# Unique Characters\n",
    "chars = list(set(text))\n",
    "\n",
    "# Lookup Tables\n",
    "char_int = {c:i for i, c in enumerate(chars)} \n",
    "int_char = {i:c for i, c in enumerate(chars)} \n",
    "\n",
    "# Here's where we'd replace text with tokenizing text if we wanted to do the dict \n",
    "# over words, not just characters."
   ]
  },
  {
   "cell_type": "code",
   "execution_count": 5,
   "metadata": {
    "Collapsed": "false"
   },
   "outputs": [
    {
     "name": "stdout",
     "output_type": "stream",
     "text": [
      "sequences:  1114621\n"
     ]
    }
   ],
   "source": [
    "maxlen = 50\n",
    "step = 5\n",
    "\n",
    "encoded = [char_int[c] for c in text]\n",
    "\n",
    "sequences = [] # Each element is 40 chars long\n",
    "next_char = [] # One element for each sequence\n",
    "\n",
    "for i in range(0, len(encoded) - maxlen, step):\n",
    "    \n",
    "    sequences.append(encoded[i : i + maxlen])\n",
    "    next_char.append(encoded[i + maxlen])\n",
    "    \n",
    "print('sequences: ', len(sequences))\n",
    "\n",
    "x = np.zeros((len(sequences), maxlen, len(chars)), dtype=np.bool)\n",
    "y = np.zeros((len(sequences),len(chars)), dtype=np.bool)\n",
    "\n",
    "for i, sequence in enumerate(sequences):\n",
    "    for t, char in enumerate(sequence):\n",
    "        x[i,t,char] = 1\n",
    "        \n",
    "    y[i, next_char[i]] = 1"
   ]
  },
  {
   "cell_type": "code",
   "execution_count": 7,
   "metadata": {
    "Collapsed": "false"
   },
   "outputs": [],
   "source": [
    "#sequences = sequences[:100000]"
   ]
  },
  {
   "cell_type": "code",
   "execution_count": 6,
   "metadata": {
    "Collapsed": "false"
   },
   "outputs": [],
   "source": [
    "x = np.zeros((len(sequences), maxlen, len(chars)), dtype=np.bool)\n",
    "y = np.zeros((len(sequences),len(chars)), dtype=np.bool)\n",
    "\n",
    "for i, sequence in enumerate(sequences):\n",
    "    for t, char in enumerate(sequence):\n",
    "        x[i,t,char] = 1\n",
    "        \n",
    "    y[i, next_char[i]] = 1"
   ]
  },
  {
   "cell_type": "code",
   "execution_count": 7,
   "metadata": {
    "Collapsed": "false"
   },
   "outputs": [],
   "source": [
    "model = Sequential()\n",
    "# embedding if words model. maybe should embed here anyways? how would this affect things?\n",
    "model.add(LSTM(512, input_shape=(maxlen, len(chars)), dropout=.2))\n",
    "model.add(Dense(len(chars), activation='softmax'))\n",
    "\n",
    "model.compile(loss='categorical_crossentropy', optimizer='adam')"
   ]
  },
  {
   "cell_type": "markdown",
   "metadata": {
    "Collapsed": "false"
   },
   "source": [
    "from tensorflow.keras.layers import CuDNNLSTM\n",
    "\n",
    "The error was because from TensorFlow 2 you do not need to specify CuDNNLSTM. You can just use LSTM with no activation function and it will automatically use the CuDNN version. You do have to install CuDNN first."
   ]
  },
  {
   "cell_type": "code",
   "execution_count": null,
   "metadata": {
    "Collapsed": "false"
   },
   "outputs": [],
   "source": []
  },
  {
   "cell_type": "code",
   "execution_count": 8,
   "metadata": {
    "Collapsed": "false"
   },
   "outputs": [],
   "source": [
    "def sample(preds):\n",
    "    # helper function to sample an index from a probability array\n",
    "    preds = np.asarray(preds).astype('float64')\n",
    "    preds = np.log(preds) / 1\n",
    "    exp_preds = np.exp(preds)\n",
    "    preds = exp_preds / np.sum(exp_preds)\n",
    "    probas = np.random.multinomial(1, preds, 1)\n",
    "    return np.argmax(probas)"
   ]
  },
  {
   "cell_type": "code",
   "execution_count": 9,
   "metadata": {
    "Collapsed": "false"
   },
   "outputs": [],
   "source": [
    "def on_epoch_end(epoch, _):\n",
    "    # Function invoked at end of each epoch. Prints generated text.\n",
    "    \n",
    "    print()\n",
    "    print('----- Generating text after Epoch: %d' % epoch)\n",
    "    \n",
    "    start_index = random.randint(0, len(text) - maxlen - 1)\n",
    "    \n",
    "    generated = ''\n",
    "    \n",
    "    sentence = text[start_index: start_index + maxlen]\n",
    "    generated += sentence\n",
    "    \n",
    "    print('----- Generating with seed: \"' + sentence + '\"')\n",
    "    sys.stdout.write(generated)\n",
    "    \n",
    "    for i in range(400):\n",
    "        x_pred = np.zeros((1, maxlen, len(chars)))\n",
    "        for t, char in enumerate(sentence):\n",
    "            x_pred[0, t, char_int[char]] = 1\n",
    "            \n",
    "        preds = model.predict(x_pred, verbose=0)[0]\n",
    "        next_index = sample(preds)\n",
    "        next_char = int_char[next_index]\n",
    "        \n",
    "        sentence = sentence[1:] + next_char\n",
    "        \n",
    "        sys.stdout.write(next_char)\n",
    "        sys.stdout.flush()\n",
    "    print()\n",
    "\n",
    "\n",
    "print_callback = LambdaCallback(on_epoch_end=on_epoch_end)"
   ]
  },
  {
   "cell_type": "code",
   "execution_count": 10,
   "metadata": {
    "Collapsed": "false"
   },
   "outputs": [
    {
     "name": "stdout",
     "output_type": "stream",
     "text": [
      "Train on 1114621 samples\n",
      "Epoch 1/15\n",
      "1114000/1114621 [============================>.] - ETA: 0s - loss: 2.7559\n",
      "----- Generating text after Epoch: 0\n",
      "----- Generating with seed: \"r- alas! you see how 'tis- a little o'erparted. Bu\"\n",
      "r- alas! you see how 'tis- a little o'erparted. BuHKSè. S\n",
      "AL RALEO.\n",
      "WheGuts of biung te aich—u ane mer\n",
      "n  ia poom sf'e you  wome\n",
      "itest ard Padey f ou gaved.  WAtS BERSESGHeSEREByUMHAMAN.\n",
      "Whereard, youl  agras  c youg;\n",
      "Ua nit tor spric.  e tof orirher  titibe seo tiengr?\n",
      "PIMLTR.\n",
      "No mempsteu ndlqumsngstelf an here shar. hon whise hoolq;ist bn   he tara s\n",
      "    BrEs.. S IORDUSO.\n",
      "Wher bware ed  houch sue\n",
      "t y lorrhbe duque: oo lothay thisves ee’b rat, t\n",
      "1114621/1114621 [==============================] - 237s 212us/sample - loss: 2.7558\n",
      "Epoch 2/15\n",
      "1114000/1114621 [============================>.] - ETA: 0s - loss: 2.2982\n",
      "----- Generating text after Epoch: 1\n",
      "----- Generating with seed: \"\n",
      "ALICE.\n",
      "De nails, _madame._\n",
      "\n",
      "KATHARINE.\n",
      "De nails, \"\n",
      "\n",
      "ALICE.\n",
      "De nails, _madame._\n",
      "\n",
      "KATHARINE.\n",
      "De nails, I me ler?\n",
      "  QRENBER. Co sablit no, thet with tood lesten.\n",
      "    I lave to bushakedsterice; trie, hou steem; me,\n",
      "    esheis tith ther surhmand\n",
      " ane mist encart antire, in he hemr, sor; ir dostalowhead\n",
      "'re conse oa muster uck oer\n",
      "sy yow fit so swincy of ugentissaded io, Heail ont; that levene?\n",
      "    BI hmycth the kend sharr Ioden scasis?\n",
      "Shap mary aavim, all jece. Yow hongy; a daritorye, the bathen, my \n",
      "1114621/1114621 [==============================] - 233s 209us/sample - loss: 2.2981\n",
      "Epoch 3/15\n",
      "1114000/1114621 [============================>.] - ETA: 0s - loss: 2.1641\n",
      "----- Generating text after Epoch: 2\n",
      "----- Generating with seed: \"e,\n",
      "Yet bury him as a prince.\n",
      "\n",
      "GUIDERIUS.\n",
      "Pray you \"\n",
      "e,\n",
      "Yet bury him as a prince.\n",
      "\n",
      "GUIDERIUS.\n",
      "Pray you come vontoms of   ogin, on pesp. We’ chuce pied hit tham the reg.\n",
      "    And then harch beive the ste te me.\n",
      "\n",
      "GAVIES\n",
      "\n",
      "Fore, llave as, thas cow on the qome.\n",
      "  KUNG YOLE. Betcead fo tho biff the, sumppe be tre lis, Gaven; onay your wu cons tho nme. I\n",
      "beld fith to me my that's withemun\n",
      "                               Exiun ScRENTISI RLANDPRbSt And sterone PuEnno Hess, varm.\n",
      "\n",
      "IRGTNMELANDE.\n",
      "Ale than your w\n",
      "1114621/1114621 [==============================] - 233s 209us/sample - loss: 2.1641\n",
      "Epoch 4/15\n",
      "1114000/1114621 [============================>.] - ETA: 0s - loss: 2.0698\n",
      "----- Generating text after Epoch: 3\n",
      "----- Generating with seed: \"st false speaking\n",
      "Was this upon myself. What I am \"\n",
      "st false speaking\n",
      "Was this upon myself. What I am is conest,\n",
      "Ar ihe machimnsond come lostss art you to thit.—Ahastyour connspontd\n",
      "Go bow’d pat prend!\n",
      "\n",
      "LARGAGL.\n",
      "Gauksis cou caless in tonecalion.\n",
      "\n",
      "HARGURB.\n",
      "Herew, seritht.\n",
      "\n",
      "PARTIAN.\n",
      "Oy thir [_thel har, braied the farr sar, ane I'smart,\n",
      "Ald pasinimost fell molriops gatea\n",
      "Det is the nobrso of indrains.\n",
      "Bas ba you mpr, timp the eromistnatre comp,\n",
      "Lame hape, ank.]\n",
      "\n",
      "Entit CAre.\n",
      "\n",
      "\n",
      "SCENE II. Soare aliahing\n",
      "1114621/1114621 [==============================] - 234s 210us/sample - loss: 2.0698\n",
      "Epoch 5/15\n",
      "1114000/1114621 [============================>.] - ETA: 0s - loss: 1.9979\n",
      "----- Generating text after Epoch: 4\n",
      "----- Generating with seed: \"bservance,\n",
      "    All humbleness, all patience, and i\"\n",
      "bservance,\n",
      "    All humbleness, all patience, and in rono fair\n",
      "    And lift of sppitily unstor'I heave that of the shold\n",
      "Fore extenires\n",
      "    Resceef the leest faterebly herven hin in\n",
      "The nesirnagain and younigy love. To you shist, To deapt, it Bagunt cumas out King eace bas\n",
      "    And thee mige a denthtets of the are.    SENPERAF Do a yout fore Casthese\n",
      "\n",
      "                  H.                         To wislefale.\n",
      "                                   Exto\n",
      "1114621/1114621 [==============================] - 234s 210us/sample - loss: 1.9979\n",
      "Epoch 6/15\n",
      "1114000/1114621 [============================>.] - ETA: 0s - loss: 1.9407\n",
      "----- Generating text after Epoch: 5\n",
      "----- Generating with seed: \"        SCENE VII.\n",
      "             Field of battle be\"\n",
      "        SCENE VII.\n",
      "             Field of battle began me,\n",
      "    Sir, I hume of buros, on this fougs?\n",
      "  STRPHISA. Haw now be the you, foo shail love ham looe,\n",
      "    Which poai stander on offyaly, Nod, I coules;\n",
      "    As though I wike withialkand courter'd,\n",
      "    Thes yould belfive it who ehrs thy wern.\n",
      "    Thissgune and sUndre's gidy trove so, whie\n",
      "    As go sid as mutina, mutyentefires te wees.\n",
      "  BRALAR. May you spay'd put in you so an. To have wee we, I\n",
      "1114621/1114621 [==============================] - 239s 214us/sample - loss: 1.9407\n",
      "Epoch 7/15\n",
      "1114000/1114621 [============================>.] - ETA: 0s - loss: 1.8924\n",
      "----- Generating text after Epoch: 6\n",
      "----- Generating with seed: \"reportest him to be.\n",
      "  SPEED. Why, thou whoreson a\"\n",
      "reportest him to be.\n",
      "  SPEED. Why, thou whoreson a better wroph't trowas betite\n",
      "Come by we sirn aghing herse,\n",
      "To doow not lide the foul ald virtuben wind\n",
      "After wis geale veryup! what a, the mbcked it:\n",
      "Unth woldot lost onfharch!\n",
      "\n",
      "LEPALENTA.\n",
      "[hat I talbst not that withally, [Grive I ammas. I would you wir\n",
      "ot is not mounts, I masonsembour? What be wall awoo;\n",
      "foosion crinting manes it night-te to me.\n",
      "\n",
      "OLAVYO.\n",
      "West they to come apsearem'd;\n",
      "now toou he\n",
      "1114621/1114621 [==============================] - 235s 211us/sample - loss: 1.8924\n",
      "Epoch 8/15\n",
      "1114000/1114621 [============================>.] - ETA: 0s - loss: 1.8530\n",
      "----- Generating text after Epoch: 7\n",
      "----- Generating with seed: \" point of human skill,\n",
      "Reason becomes the marshal \"\n",
      " point of human skill,\n",
      "Reason becomes the marshal no yould handly: Boung lay that\n",
      "I am asalse charmors. This faws of fool! Ro would\n",
      "  Le very dears in exese,\n",
      "  MERMANI. Pare no moge Serlant,\n",
      "with sorrece-gentl? and I hade bet as mind again?\n",
      "\n",
      "JALE.\n",
      "No do.\n",
      "\n",
      "KING.\n",
      "And the heart, bas sprants you Groteeth\n",
      "R down that stirs, in yours mady may tryest\n",
      "If shreias quper iols instrownts Greak up hir. Woat some? I small\n",
      "Mecquefes’d though ever sat, and hose \n",
      "1114621/1114621 [==============================] - 233s 209us/sample - loss: 1.8530\n",
      "Epoch 9/15\n",
      "1114000/1114621 [============================>.] - ETA: 0s - loss: 1.8164\n",
      "----- Generating text after Epoch: 8\n",
      "----- Generating with seed: \"k in\n",
      "          a chair. Enter TALBOT and BURGUNDY \"\n",
      "k in\n",
      "          a chair. Enter TALBOT and BURGUNDY LENUMORD MAPGORE, mirdrellio naitery,\n",
      "  A Stake of sure bue mertery stifel she hands.\n",
      "    Wall of Eharl's ave moint. What, oay\n",
      "give core\n",
      "    that, 'aw itsit. My satters lentles, as I dreap a soverly.\n",
      "\n",
      "NIOST.\n",
      "Lasty away, Rome to lee me; where is her to hopsanding\n",
      "    His grave, befaire them for you, I thou to acquantEice will he waugt about!\n",
      "    For I’ll rads Offactly, I had suat his blaed,\n",
      "    Cal\n",
      "1114621/1114621 [==============================] - 234s 210us/sample - loss: 1.8164\n",
      "Epoch 10/15\n",
      "1114000/1114621 [============================>.] - ETA: 0s - loss: 1.7877\n",
      "----- Generating text after Epoch: 9\n",
      "----- Generating with seed: \"r lordship\n",
      "    To meet his Grace just distance 'tw\"\n",
      "r lordship\n",
      "    To meet his Grace just distance 'twa dispeth n my,\n",
      "  What ofter that give thy mote againtt her wits\n",
      "      and thee; So has mease the sceaice, huphin a stalothme to ETentims. A \n",
      "H     [With a astron in Fount\n",
      "\n",
      "ANTIPUS, here hath prizes\n",
      "\n",
      "CAEDER\n",
      "   CLAUCDo ATROWKE 'OWabout no men ef rich, approus'd\n",
      "    You our a'stais'd and fiod fortwonning Truth\n",
      "    Thy desert I bount the King's purotee cost.\n",
      "  BUYKL. Here wild ame for your pray not n\n",
      "1114621/1114621 [==============================] - 234s 210us/sample - loss: 1.7877\n",
      "Epoch 11/15\n",
      "1114000/1114621 [============================>.] - ETA: 0s - loss: 1.7607\n",
      "----- Generating text after Epoch: 10\n",
      "----- Generating with seed: \" he parted from me,\n",
      "    To bind him to remember my\"\n",
      " he parted from me,\n",
      "    To bind him to remember my fance;\n",
      "    Then, where is too: forth' hare-to this dide-\n",
      "  FALETAFF. Blist's deot rishors My appedoo this; therefore, she but grod\n",
      "    u anvest of bone if Shildis; thou sot the caumtet\n",
      "    The yemppor's cullien of the haster's hind,\n",
      "    Une crowing of Losemmurness gloss,\n",
      "    Kinely, good lud't on there semptwits are thee.\n",
      "\n",
      "BERTR.\n",
      "He ened the Queen! A yor prume’s uncaspl.\n",
      "\n",
      "HORLANIS.\n",
      "Hepen shepe, g\n",
      "1114621/1114621 [==============================] - 234s 210us/sample - loss: 1.7607\n",
      "Epoch 12/15\n",
      "1114000/1114621 [============================>.] - ETA: 0s - loss: 1.7359\n",
      "----- Generating text after Epoch: 11\n",
      "----- Generating with seed: \"ets now\n",
      "    That strew the green lap of the new co\"\n",
      "ets now\n",
      "    That strew the green lap of the new covesth\n",
      "    The gayslot witer dim affaity in show,\n",
      "    Unled meet from hirsh of fey, the great fall\n",
      "    These formurion in by doow. And, cenora to mint\n",
      "    Is ifly Jaly shall carile him, mer’s mueth?\n",
      "  QUEEN KLIZHBERE. You say nob Coesia to you hear, that corre\n",
      "tone\n",
      "\n",
      "Haw tot me do bon out oppod othe ride.\n",
      "\n",
      "IAGO.\n",
      "That if this jumber livew the cailod, fresc’e,\n",
      "Or fautle wexts, and you ow, make her par\n",
      "1114621/1114621 [==============================] - 234s 210us/sample - loss: 1.7359\n",
      "Epoch 13/15\n",
      "1114000/1114621 [============================>.] - ETA: 0s - loss: 1.7162\n",
      "----- Generating text after Epoch: 12\n",
      "----- Generating with seed: \"ent merit of the unworthy takes,\n",
      "When he himself m\"\n",
      "ent merit of the unworthy takes,\n",
      "When he himself my fountina in his lany.\n",
      "\n",
      "ATOALO.\n",
      "Doth your from sanowhere?\n",
      "\n",
      "OTHELLO.\n",
      "I gry long excipe what I then you in the lord?\n",
      "\n",
      "FLOAIA.\n",
      "Why, do, you arast?\n",
      "\n",
      "LONT.\n",
      "I hage you ding of cold are entrity.\n",
      "\n",
      "WALONT.\n",
      "It is what I oe her sape,\n",
      "With you so herc \"f my buseray wise dreak.\n",
      "\n",
      "FRONS LARRETHERRANT.\n",
      "I move ud is meneven Brue a gintin ther.\n",
      "I’ll geve it in that dangsion so awaw’sth;\n",
      "COKIN MENCELSTE.\n",
      "Marries, m\n",
      "1114621/1114621 [==============================] - 234s 210us/sample - loss: 1.7162\n",
      "Epoch 14/15\n",
      "1114000/1114621 [============================>.] - ETA: 0s - loss: 1.6968\n",
      "----- Generating text after Epoch: 13\n",
      "----- Generating with seed: \"cold fear, that mean and gentle all\n",
      "Behold, as may\"\n",
      "cold fear, that mean and gentle all\n",
      "Behold, as may her Ploan servy onch woman\n",
      "Dought and there spercily!”\n",
      "This is the cannattion beet bles youmace.\n",
      "I have think noing. Have net not sey the monner\n",
      "The name of Manoua, wherewars of this cerp\n",
      "Why almests thing, madres’ black for th' has? in this\n",
      "          com'l there or in't ftee love with eye;\n",
      "    And renery and perfords my doth not will de\n",
      "    O ployatonle? No, and thought he is at a’l sponehfur. B\n",
      "1114621/1114621 [==============================] - 238s 214us/sample - loss: 1.6968\n",
      "Epoch 15/15\n",
      "1114000/1114621 [============================>.] - ETA: 0s - loss: 1.6786\n",
      "----- Generating text after Epoch: 14\n",
      "----- Generating with seed: \"ncerns the Turk than Rhodes,\n",
      "So may he with more f\"\n",
      "ncerns the Turk than Rhodes,\n",
      "So may he with more focmz; we’tlee home itact.\n",
      "Wh’ secation better death of me a crays'd:\n",
      "Hepengs art an eye love thay I quan, burn mewn\n",
      "As tites the never. Gut her onner,\n",
      "His ongoyelerwers by that hast whone ooe,\n",
      "For sor’d ahe moody of line, and therein heapen\n",
      "Frou taked men oo kent hences, coupit bit moth,\n",
      "We that enowns: in here pog-tions! all the secre wore a drumio with you;\n",
      "the\n",
      "feelet, men of her prese. Rishable\n",
      "1114621/1114621 [==============================] - 234s 210us/sample - loss: 1.6786\n"
     ]
    },
    {
     "data": {
      "text/plain": [
       "<tensorflow.python.keras.callbacks.History at 0x218a54bae48>"
      ]
     },
     "execution_count": 10,
     "metadata": {},
     "output_type": "execute_result"
    }
   ],
   "source": [
    "model.fit(x, y,\n",
    "          batch_size=2000,\n",
    "          epochs=15,\n",
    "          callbacks=[print_callback])"
   ]
  },
  {
   "cell_type": "markdown",
   "metadata": {
    "Collapsed": "false"
   },
   "source": [
    "Use partially trained model to train more!"
   ]
  },
  {
   "cell_type": "code",
   "execution_count": 13,
   "metadata": {
    "Collapsed": "false"
   },
   "outputs": [
    {
     "name": "stdout",
     "output_type": "stream",
     "text": [
      "sequences:  1114623\n"
     ]
    }
   ],
   "source": [
    "maxlen = 40\n",
    "step = 5\n",
    "\n",
    "encoded = [char_int[c] for c in text]\n",
    "\n",
    "sequences = [] # Each element is 40 chars long\n",
    "next_char = [] # One element for each sequence\n",
    "\n",
    "for i in range(0, len(encoded) - maxlen, step):\n",
    "    \n",
    "    sequences.append(encoded[i : i + maxlen])\n",
    "    next_char.append(encoded[i + maxlen])\n",
    "    \n",
    "print('sequences: ', len(sequences))\n",
    "\n",
    "x = np.zeros((len(sequences), maxlen, len(chars)), dtype=np.bool)\n",
    "y = np.zeros((len(sequences),len(chars)), dtype=np.bool)\n",
    "\n",
    "for i, sequence in enumerate(sequences):\n",
    "    for t, char in enumerate(sequence):\n",
    "        x[i,t,char] = 1\n",
    "        \n",
    "    y[i, next_char[i]] = 1"
   ]
  },
  {
   "cell_type": "code",
   "execution_count": 14,
   "metadata": {
    "Collapsed": "false"
   },
   "outputs": [
    {
     "name": "stdout",
     "output_type": "stream",
     "text": [
      "Train on 1114623 samples\n",
      "Epoch 1/15\n",
      "1114000/1114623 [============================>.] - ETA: 0s - loss: 2.4279\n",
      "----- Generating text after Epoch: 0\n",
      "----- Generating with seed: \" our seeing, goe we hence,\n",
      "Right joyfull\"\n",
      " our seeing, goe we hence,\n",
      "Right joyfull a pratt, yas nge; ghell\n",
      "     Thes soor my uame in wole hent cooi wid.\n",
      "\n",
      "THKOGA.\n",
      "PSor arg'grelt\n",
      "    ir is  mout a’d thev din cringom oulitis; ary;  n arith m srarsels? Sou’s mo, ank hateatis qury;\n",
      "\n",
      " _UHICEL._]athy, aWsme wov'e sblbt bar; ar Myse nitherd INisks'nd,\n",
      "\n",
      "    houzheclsenth woucurt, orv, thange tit\n",
      "yam norm whall ofh, wher, peary;\n",
      "hy oul as whing aulesi he sesto  numgh,\n",
      " T  nin to sa fase \n",
      "1114623/1114623 [==============================] - 51s 46us/sample - loss: 2.4278\n",
      "Epoch 2/15\n",
      "1114000/1114623 [============================>.] - ETA: 0s - loss: 2.3261\n",
      "----- Generating text after Epoch: 1\n",
      "----- Generating with seed: \"on the instant that she was accus’d,\n",
      "   \"\n",
      "on the instant that she was accus’d,\n",
      "    shit mbelir ly. Lelly ham prany 'rons,\n",
      "And fit wivtime.\n",
      "Mike Vhat the motbly doovesof,\n",
      "Fod frriule, bean}aet hiy ooxterd Sat Gorte\n",
      "\n",
      "KIUOE.\n",
      "Thus monchy ustmith, ardin carefanteuchen thour\n",
      "\n",
      "AChEt. Sovve, bevouding celfior I se toutour; I hastique;\n",
      "d atrrse thesvin ot a pilanistes fuy mice wuglatissst net.\n",
      "  BAUADEL. Fat, I arg.\n",
      "\n",
      "TERTERVET.\n",
      "We yo sere. IHithy, rnfemy bot rive ing til to,\n",
      "home. UUWhI\n",
      "1114623/1114623 [==============================] - 47s 42us/sample - loss: 2.3261\n",
      "Epoch 3/15\n",
      "1114000/1114623 [============================>.] - ETA: 0s - loss: 2.2664\n",
      "----- Generating text after Epoch: 2\n",
      "----- Generating with seed: \" Or may we cram\n",
      "Within this wooden O the\"\n",
      " Or may we cram\n",
      "Within this wooden O theurep fat I as treur;\n",
      "Whetrivendain bet rencoritt will an awerin. I cone dote\n",
      "    I aeues, manjupst int d wad? this frimn bp widrowst, ardzee; I dils art dy, lidf, mase, twarl for corad-swaly,\n",
      "And she plodce to taom toen amprvand;\n",
      "I ald sade. Ho ou 'oj!       Ta the plow; be fare me soay coreat;\n",
      "The ablen’d to cegly ciles anes.   tondting to lagayxmake.\n",
      "    Extut and in foresgich-emory, doul f olle\n",
      "1114623/1114623 [==============================] - 48s 43us/sample - loss: 2.2665\n",
      "Epoch 4/15\n",
      "1114000/1114623 [============================>.] - ETA: 0s - loss: 2.2238\n",
      "----- Generating text after Epoch: 3\n",
      "----- Generating with seed: \"\n",
      "    For he's inclin'd as is the ravenou\"\n",
      "\n",
      "    For he's inclin'd as is the ravenoust of dobjevid.\n",
      "    Fatr what heave I  or have rkeal his ookl Romere?\n",
      "  PSENINLI. To fwall your se my pase deal-ect man that ut towen; is tidg will fidses\n",
      " n      u wrtmerdy, Houre, by loran sofentsou murd thails,\n",
      "\n",
      " T  CUKES. Alk baiet’s macn spoy wasors the this hass\n",
      "    Iigh, he quel a de? wher and iof in io?\n",
      "  TERTAVINE. Alt us we hing, nom see’shand be\n",
      "    Helf at stoyrumiou vur the ome, swill\n",
      "1114623/1114623 [==============================] - 51s 45us/sample - loss: 2.2238\n",
      "Epoch 5/15\n",
      "1114000/1114623 [============================>.] - ETA: 0s - loss: 2.1886\n",
      "----- Generating text after Epoch: 4\n",
      "----- Generating with seed: \"sir.\n",
      "\n",
      "FLORIZEL.\n",
      "So call it: but it does \"\n",
      "sir.\n",
      "\n",
      "FLORIZEL.\n",
      "So call it: but it does the notyem chivr fibe.\n",
      "    Fne Phole, th  lend you afort me cas erxd?\n",
      "  LION] L, the mant;\n",
      "So murcess ounk tho Lave Then the well mig. not the fome beee your she whim seng\n",
      "    As with mour Loatiee Mare hon theredbreven,\n",
      "    giest will us now I 'hit thiksstrnm a dive\n",
      "    Oh thecinde\n",
      "fre eratry, boncless wire ho did\n",
      "this nlabcings-shy mine\n",
      "To h’s ersplamy bus that I'll youn sheil spn' the congleteno\n",
      "1114623/1114623 [==============================] - 54s 48us/sample - loss: 2.1885\n",
      "Epoch 6/15\n",
      "1114000/1114623 [============================>.] - ETA: 0s - loss: 2.1606\n",
      "----- Generating text after Epoch: 5\n",
      "----- Generating with seed: \"ate king!\n",
      "    But, lords, we hear this f\"\n",
      "ate king!\n",
      "    But, lords, we hear this fok, a may I with\n",
      "\n",
      "A WELPAEE ATHWHGET.\n",
      "Have aven the hiny of say gandano,\n",
      "    Forts\n",
      "loweshavers to kort, het thid thee\n",
      "    rigglvedinges that hethom. Whctghing! Do dend Hongetay mas sit I the brond?\n",
      "  RUTIRUS. Weus sor up oup, heftoest tho averr land;\n",
      "O, ters of whom for mart he kith an\n",
      "Bo to to golf a jevined, yis ood stabe the your meace to thee! ’somfot,\n",
      "    To beid'd’IHady feem hum.\n",
      "\n",
      "MERTINE.\n",
      "H\n",
      "1114623/1114623 [==============================] - 47s 42us/sample - loss: 2.1605\n",
      "Epoch 7/15\n",
      "1114000/1114623 [============================>.] - ETA: 0s - loss: 2.1365\n",
      "----- Generating text after Epoch: 6\n",
      "----- Generating with seed: \"the plaster.\n",
      "\n",
      "SEBASTIAN.\n",
      "Very well.\n",
      "\n",
      "ANT\"\n",
      "the plaster.\n",
      "\n",
      "SEBASTIAN.\n",
      "Very well.\n",
      "\n",
      "ANTOME.\n",
      "Dest you a tann thit to he detitson, ateave Ragentor\n",
      "  MANY. Bave, at myserilath, from rppy-tanegh arkst\n",
      "    Entee nog the aruth whe coppromay if Why.\n",
      "    Whoch on Kink'd hemy art wonden, do him Feresee,\n",
      "Nrcther More thear’dein is ef o cotr and Horl’' the Lone,\n",
      "The  tame goon tas ale bmes sut pheshe.\n",
      "Theissent of peacire feltes mose chearte\n",
      "\n",
      "                Exturt JUND IUCE BEMIAMUS]\n",
      "ILSIUDAS\n",
      "1114623/1114623 [==============================] - 50s 45us/sample - loss: 2.1365\n",
      "Epoch 8/15\n",
      "1114000/1114623 [============================>.] - ETA: 0s - loss: 2.1125\n",
      "----- Generating text after Epoch: 7\n",
      "----- Generating with seed: \"y life, my wife! O Imogen,\n",
      "Imogen, Imoge\"\n",
      "y life, my wife! O Imogen,\n",
      "Imogen, Imoge''t duit? _Ombel; of to feir.\n",
      "\n",
      "PHTRGULY.\n",
      "Nove becuntstshinswart apleane noch is lose tye\n",
      "\n",
      "  By sut knot breraning of Kays this all be\n",
      "En whar epon pould bawncour\n",
      "    Kengon froch works my cadlord penen reenceace by erve?\n",
      "Whith wechfe ye druingsain thet bence a daddods.\n",
      "    and enanown munketh yourthincest’s cale on itle\n",
      "    The quertelus an you conght bof the serr.\n",
      "  T HATOEBAR. Why,, fsig the use\n",
      "1114623/1114623 [==============================] - 55s 50us/sample - loss: 2.1125\n",
      "Epoch 9/15\n",
      "1114000/1114623 [============================>.] - ETA: 0s - loss: 2.0946\n",
      "----- Generating text after Epoch: 8\n",
      "----- Generating with seed: \" fail you not to do, as you will—”\n",
      "\n",
      "LODO\"\n",
      " fail you not to do, as you will—”\n",
      "\n",
      "LODOOLLK.\n",
      "F’r ice blang of your to bit,\n",
      "At the lang to nit you, geatul acking hone teem eart abcianot Keblesis,\n",
      "Whonkirt dow, “ade the iset the Lill’d's sake;\n",
      "    That in to the vecce he juck tser Fonge,\n",
      "And knot in to dik'd: Entem woll I har there is compon Prelory?\n",
      "\n",
      "DUTROIULA.\n",
      "Now, it not bearter,\n",
      "And hever who adieat, shy pough muat witb dour hark ontel bur.\n",
      "  KINBESTIT. Whicha takens thangthc ubla\n",
      "1114623/1114623 [==============================] - 49s 44us/sample - loss: 2.0946\n",
      "Epoch 10/15\n",
      "1114000/1114623 [============================>.] - ETA: 0s - loss: 2.0774\n",
      "----- Generating text after Epoch: 9\n",
      "----- Generating with seed: \"S.\n",
      "Not much employment for you. You unde\"\n",
      "S.\n",
      "Not much employment for you. You under u groa sanf Blove\n",
      "mendary, me lays Cailly and a brirs?\n",
      "\n",
      "\n",
      "MESTHESTUS\n",
      "If for surenow she Toetwithbers gals\n",
      "    Tou would menitug: doray frem held in this\n",
      "A frind the dants clitebe, hadem, bethan uncen\n",
      "r begnius blas, my wat efflifk'l of thetrefle.\n",
      "    Kenture gubon ie now sweer not well with and by histet and leer\n",
      "\n",
      "\n",
      "GROLBIRS.\n",
      "I houlow, the pracedes; so. Hais by I march.\n",
      "  QUCENTUS. Me'tugeames, gi\n",
      "1114623/1114623 [==============================] - 47s 43us/sample - loss: 2.0774\n",
      "Epoch 11/15\n",
      "1114000/1114623 [============================>.] - ETA: 0s - loss: 2.0607\n",
      "----- Generating text after Epoch: 10\n",
      "----- Generating with seed: \"y.\n",
      "  CLAUDIO. O, hear me, Isabella.\n",
      "\n",
      "   \"\n",
      "y.\n",
      "  CLAUDIO. O, hear me, Isabella.\n",
      "\n",
      "                                Enter PERICS, GRES, I The cantletem Lith, would\n",
      "LAUCHAN eter\n",
      "sporn\n",
      "\n",
      "[Kien, seall;\n",
      "Ender pasaic.]\n",
      "                                     n              CRED NE \n",
      "  LLLOUCETPA dathage, hid cherven\n",
      "woo thou Causin of the regrt soch mats bly wer.\n",
      "\n",
      "ACHEWIIN.\n",
      "Wxit\n",
      "Noows we morente, fom to boge, worlein.\n",
      "A with had, a dronned I tan-otee, foy his deuss\n",
      "\n",
      "                          \n",
      "1114623/1114623 [==============================] - 47s 42us/sample - loss: 2.0607\n",
      "Epoch 12/15\n",
      "1114000/1114623 [============================>.] - ETA: 0s - loss: 2.0472\n",
      "----- Generating text after Epoch: 11\n",
      "----- Generating with seed: \"thing have these nothings,\n",
      "If this be no\"\n",
      "thing have these nothings,\n",
      "If this be not If rokg a dester and hay will\n",
      "Mast’d hith vare to do cortioto’s hear’t of I dram flo\n",
      "       all to for’e makn? Hf hacewad madiesh and be wind tand reap ous meat;\n",
      "Wor hees what ow that Purshop? Bet, he os chalm proon'd it the\n",
      "\n",
      "  _Eener willivace and virate commands]\n",
      "\n",
      "YORATIA.\n",
      "[_Exeunt._]\n",
      "\n",
      "SACCEST.\n",
      "Yet knodsal!\n",
      "  BEPBLLUK You Gy, a rake and gintio day for his nim.\n",
      "\n",
      " ECNESTAR. I dose slarw with him\n",
      "1114623/1114623 [==============================] - 51s 46us/sample - loss: 2.0472\n",
      "Epoch 13/15\n",
      "1114000/1114623 [============================>.] - ETA: 0s - loss: 2.0337\n",
      "----- Generating text after Epoch: 12\n",
      "----- Generating with seed: \"ing up the letter._]\n",
      "\n",
      "GLOUCESTER.\n",
      "Why so\"\n",
      "ing up the letter._]\n",
      "\n",
      "GLOUCESTER.\n",
      "Why sown my Rispsw\n",
      "    And thoue sleforst apome and the cumpery bultiot voalt,     So will sy thou! ser, Pame it eir componn',\n",
      "    And the' nave he rich of the heare.\n",
      "    Sor mort! Lose co have me ard be I. ifffem to yey.\n",
      "                  294.\n",
      "  And,\n",
      "    His place not tortiey to ells latt so for.\n",
      "\n",
      " QUEXENT. How ung seven buriagiow.\n",
      "\n",
      "  [_Soeeirin.]\n",
      "\n",
      "\n",
      "       ACHORD Y     FFrod atonnvous with aisp\n",
      "Roal, t\n",
      "1114623/1114623 [==============================] - 46s 41us/sample - loss: 2.0337\n",
      "Epoch 14/15\n",
      "1114000/1114623 [============================>.] - ETA: 0s - loss: 2.0214\n",
      "----- Generating text after Epoch: 13\n",
      "----- Generating with seed: \"es that men do leave\n",
      "Are hated most of t\"\n",
      "es that men do leave\n",
      "Are hated most of the Duge by l'll not the wurrn!\n",
      "The grod! She dead shall I fart menytd be will-mud\n",
      "    But gurttio' bifitif’s lirtyon, conetues\n",
      "Lasts knds'd with menno hem but for tone!\n",
      "\n",
      "BEORTOLIO.\n",
      "No ustarthtoses, Alke's you he halicelt.\n",
      "  FORACTES. Thes so mysen shall conctiey; my leake hear.\n",
      "  pounnd a jake fel. Loke cower this dindre\n",
      "    A did sweence own there nontets’t.\n",
      "\n",
      "ARKINIA.\n",
      "Leupetty,\n",
      "Radiy _ree? I buzo\n",
      "1114623/1114623 [==============================] - 55s 49us/sample - loss: 2.0214\n",
      "Epoch 15/15\n",
      "1114000/1114623 [============================>.] - ETA: 0s - loss: 2.0100\n",
      "----- Generating text after Epoch: 14\n",
      "----- Generating with seed: \"h girdle you about\n",
      "    By the compulsion\"\n",
      "h girdle you about\n",
      "    By the compulsion as ase thy wenher:\n",
      "Sou a infer masuleventand\n",
      "\n",
      "But APIUCY. Rockoug' him; provort a’ll’d I dold of yim batace be hone a ffoles af ghes\n",
      " t ebearters your sayre thou hath extle to everomame,\n",
      " a   fame, a sainher\n",
      "    To combange, yer, fails or thise-beit?\n",
      "In wotchemy thill thy facier.\n",
      "The butter ad on\n",
      ".   I am nof thy shall ip non laws gle' dubjeed\n",
      "With sey thou meater; and and with toos ’ot obee; ol \n",
      "1114623/1114623 [==============================] - 56s 50us/sample - loss: 2.0100\n"
     ]
    },
    {
     "data": {
      "text/plain": [
       "<tensorflow.python.keras.callbacks.History at 0x1cc0a6ddc18>"
      ]
     },
     "execution_count": 14,
     "metadata": {},
     "output_type": "execute_result"
    }
   ],
   "source": [
    "model.fit(x, y,\n",
    "          batch_size=2000,\n",
    "          epochs=15,\n",
    "          callbacks=[print_callback])"
   ]
  },
  {
   "cell_type": "markdown",
   "metadata": {
    "Collapsed": "false",
    "colab_type": "text",
    "id": "zE4a4O7Bp5x1"
   },
   "source": [
    "# Resources and Stretch Goals"
   ]
  },
  {
   "cell_type": "markdown",
   "metadata": {
    "Collapsed": "false"
   },
   "source": [
    "Reproduce Lecture"
   ]
  },
  {
   "cell_type": "code",
   "execution_count": 15,
   "metadata": {
    "Collapsed": "false"
   },
   "outputs": [],
   "source": [
    "from __future__ import print_function\n",
    "\n",
    "from tensorflow.keras.preprocessing import sequence\n",
    "from tensorflow.keras.models import Sequential\n",
    "from tensorflow.keras.layers import Dense, Embedding, LSTM\n",
    "from tensorflow.keras.datasets import imdb"
   ]
  },
  {
   "cell_type": "code",
   "execution_count": 16,
   "metadata": {
    "Collapsed": "false"
   },
   "outputs": [],
   "source": [
    "max_features = 20000\n",
    "maxlen = 80\n",
    "batch_size = 100"
   ]
  },
  {
   "cell_type": "code",
   "execution_count": 17,
   "metadata": {
    "Collapsed": "false"
   },
   "outputs": [
    {
     "name": "stdout",
     "output_type": "stream",
     "text": [
      "Loading data...\n"
     ]
    }
   ],
   "source": [
    "print('Loading data...')\n",
    "(x_train, y_train), (x_test, y_test) = imdb.load_data(num_words=max_features)"
   ]
  },
  {
   "cell_type": "code",
   "execution_count": 18,
   "metadata": {
    "Collapsed": "false"
   },
   "outputs": [
    {
     "name": "stdout",
     "output_type": "stream",
     "text": [
      "25000\n"
     ]
    }
   ],
   "source": [
    "print(len(x_train))"
   ]
  },
  {
   "cell_type": "code",
   "execution_count": 19,
   "metadata": {
    "Collapsed": "false"
   },
   "outputs": [
    {
     "data": {
      "text/plain": [
       "[1,\n",
       " 14,\n",
       " 22,\n",
       " 16,\n",
       " 43,\n",
       " 530,\n",
       " 973,\n",
       " 1622,\n",
       " 1385,\n",
       " 65,\n",
       " 458,\n",
       " 4468,\n",
       " 66,\n",
       " 3941,\n",
       " 4,\n",
       " 173,\n",
       " 36,\n",
       " 256,\n",
       " 5,\n",
       " 25,\n",
       " 100,\n",
       " 43,\n",
       " 838,\n",
       " 112,\n",
       " 50,\n",
       " 670,\n",
       " 2,\n",
       " 9,\n",
       " 35,\n",
       " 480,\n",
       " 284,\n",
       " 5,\n",
       " 150,\n",
       " 4,\n",
       " 172,\n",
       " 112,\n",
       " 167,\n",
       " 2,\n",
       " 336,\n",
       " 385,\n",
       " 39,\n",
       " 4,\n",
       " 172,\n",
       " 4536,\n",
       " 1111,\n",
       " 17,\n",
       " 546,\n",
       " 38,\n",
       " 13,\n",
       " 447,\n",
       " 4,\n",
       " 192,\n",
       " 50,\n",
       " 16,\n",
       " 6,\n",
       " 147,\n",
       " 2025,\n",
       " 19,\n",
       " 14,\n",
       " 22,\n",
       " 4,\n",
       " 1920,\n",
       " 4613,\n",
       " 469,\n",
       " 4,\n",
       " 22,\n",
       " 71,\n",
       " 87,\n",
       " 12,\n",
       " 16,\n",
       " 43,\n",
       " 530,\n",
       " 38,\n",
       " 76,\n",
       " 15,\n",
       " 13,\n",
       " 1247,\n",
       " 4,\n",
       " 22,\n",
       " 17,\n",
       " 515,\n",
       " 17,\n",
       " 12,\n",
       " 16,\n",
       " 626,\n",
       " 18,\n",
       " 19193,\n",
       " 5,\n",
       " 62,\n",
       " 386,\n",
       " 12,\n",
       " 8,\n",
       " 316,\n",
       " 8,\n",
       " 106,\n",
       " 5,\n",
       " 4,\n",
       " 2223,\n",
       " 5244,\n",
       " 16,\n",
       " 480,\n",
       " 66,\n",
       " 3785,\n",
       " 33,\n",
       " 4,\n",
       " 130,\n",
       " 12,\n",
       " 16,\n",
       " 38,\n",
       " 619,\n",
       " 5,\n",
       " 25,\n",
       " 124,\n",
       " 51,\n",
       " 36,\n",
       " 135,\n",
       " 48,\n",
       " 25,\n",
       " 1415,\n",
       " 33,\n",
       " 6,\n",
       " 22,\n",
       " 12,\n",
       " 215,\n",
       " 28,\n",
       " 77,\n",
       " 52,\n",
       " 5,\n",
       " 14,\n",
       " 407,\n",
       " 16,\n",
       " 82,\n",
       " 10311,\n",
       " 8,\n",
       " 4,\n",
       " 107,\n",
       " 117,\n",
       " 5952,\n",
       " 15,\n",
       " 256,\n",
       " 4,\n",
       " 2,\n",
       " 7,\n",
       " 3766,\n",
       " 5,\n",
       " 723,\n",
       " 36,\n",
       " 71,\n",
       " 43,\n",
       " 530,\n",
       " 476,\n",
       " 26,\n",
       " 400,\n",
       " 317,\n",
       " 46,\n",
       " 7,\n",
       " 4,\n",
       " 12118,\n",
       " 1029,\n",
       " 13,\n",
       " 104,\n",
       " 88,\n",
       " 4,\n",
       " 381,\n",
       " 15,\n",
       " 297,\n",
       " 98,\n",
       " 32,\n",
       " 2071,\n",
       " 56,\n",
       " 26,\n",
       " 141,\n",
       " 6,\n",
       " 194,\n",
       " 7486,\n",
       " 18,\n",
       " 4,\n",
       " 226,\n",
       " 22,\n",
       " 21,\n",
       " 134,\n",
       " 476,\n",
       " 26,\n",
       " 480,\n",
       " 5,\n",
       " 144,\n",
       " 30,\n",
       " 5535,\n",
       " 18,\n",
       " 51,\n",
       " 36,\n",
       " 28,\n",
       " 224,\n",
       " 92,\n",
       " 25,\n",
       " 104,\n",
       " 4,\n",
       " 226,\n",
       " 65,\n",
       " 16,\n",
       " 38,\n",
       " 1334,\n",
       " 88,\n",
       " 12,\n",
       " 16,\n",
       " 283,\n",
       " 5,\n",
       " 16,\n",
       " 4472,\n",
       " 113,\n",
       " 103,\n",
       " 32,\n",
       " 15,\n",
       " 16,\n",
       " 5345,\n",
       " 19,\n",
       " 178,\n",
       " 32]"
      ]
     },
     "execution_count": 19,
     "metadata": {},
     "output_type": "execute_result"
    }
   ],
   "source": [
    "x_train[0]"
   ]
  },
  {
   "cell_type": "markdown",
   "metadata": {
    "Collapsed": "false"
   },
   "source": [
    "Next step is to create universal input length so that everything is the same dimension for our model. For this, we use the pad_sequences method from Keras preprocessing in order to cut sequences above the max length down to it and add 0s to bring sequences up to the same length."
   ]
  },
  {
   "cell_type": "code",
   "execution_count": 20,
   "metadata": {
    "Collapsed": "false"
   },
   "outputs": [
    {
     "name": "stdout",
     "output_type": "stream",
     "text": [
      "(25000, 80)\n",
      "(25000, 80)\n"
     ]
    }
   ],
   "source": [
    "x_train = sequence.pad_sequences(x_train, maxlen=maxlen)\n",
    "x_test = sequence.pad_sequences(x_test, maxlen=maxlen)\n",
    "print(x_train.shape)\n",
    "print(x_test.shape)"
   ]
  },
  {
   "cell_type": "markdown",
   "metadata": {
    "Collapsed": "false"
   },
   "source": [
    "Each of our observations is now a vector with length 80, where each element in the vector is essentially a one-hot encoding over a 20000-word vocabulary. What the embedding layer does is vectorize all this down into dense vectors in n dimensions. (Although it will look like it's adding dimensions, as each element of x_train will now be a series of 80 n-dimensional vectors.) "
   ]
  },
  {
   "cell_type": "markdown",
   "metadata": {
    "Collapsed": "false"
   },
   "source": [
    "Conventional LSTM models only have one LSTM layer before passing it to a dense layer to get output."
   ]
  },
  {
   "cell_type": "code",
   "execution_count": 22,
   "metadata": {
    "Collapsed": "false"
   },
   "outputs": [
    {
     "name": "stdout",
     "output_type": "stream",
     "text": [
      "Model: \"sequential_2\"\n",
      "_________________________________________________________________\n",
      "Layer (type)                 Output Shape              Param #   \n",
      "=================================================================\n",
      "embedding_1 (Embedding)      (None, None, 128)         2560000   \n",
      "_________________________________________________________________\n",
      "lstm_2 (LSTM)                (None, 128)               131584    \n",
      "_________________________________________________________________\n",
      "dense_2 (Dense)              (None, 1)                 129       \n",
      "=================================================================\n",
      "Total params: 2,691,713\n",
      "Trainable params: 2,691,713\n",
      "Non-trainable params: 0\n",
      "_________________________________________________________________\n"
     ]
    }
   ],
   "source": [
    "model = Sequential()\n",
    "model.add(Embedding(max_features, 128))\n",
    "model.add(LSTM(128, dropout=.2, recurrent_dropout=.2))\n",
    "model.add(Dense(1, activation='sigmoid'))\n",
    "\n",
    "model.compile(loss='binary_crossentropy',\n",
    "             optimizer='adam',\n",
    "             metrics=['accuracy'])\n",
    "\n",
    "model.summary()"
   ]
  },
  {
   "cell_type": "code",
   "execution_count": 23,
   "metadata": {
    "Collapsed": "false"
   },
   "outputs": [
    {
     "name": "stdout",
     "output_type": "stream",
     "text": [
      "Train on 25000 samples, validate on 25000 samples\n",
      "Epoch 1/10\n",
      "25000/25000 [==============================] - 24s 953us/sample - loss: 0.5400 - accuracy: 0.7244 - val_loss: 0.3752 - val_accuracy: 0.8348\n",
      "Epoch 2/10\n",
      "25000/25000 [==============================] - 22s 864us/sample - loss: 0.3147 - accuracy: 0.8721 - val_loss: 0.3826 - val_accuracy: 0.8346\n",
      "Epoch 3/10\n",
      "25000/25000 [==============================] - 21s 839us/sample - loss: 0.2430 - accuracy: 0.9056 - val_loss: 0.3852 - val_accuracy: 0.8296\n",
      "Epoch 4/10\n",
      "25000/25000 [==============================] - 21s 822us/sample - loss: 0.2061 - accuracy: 0.9244 - val_loss: 0.4429 - val_accuracy: 0.8259\n",
      "Epoch 5/10\n",
      "25000/25000 [==============================] - 20s 816us/sample - loss: 0.1699 - accuracy: 0.9388 - val_loss: 0.4870 - val_accuracy: 0.8204\n",
      "Epoch 6/10\n",
      "25000/25000 [==============================] - 19s 778us/sample - loss: 0.1342 - accuracy: 0.9546 - val_loss: 0.5502 - val_accuracy: 0.8177\n",
      "Epoch 7/10\n",
      "25000/25000 [==============================] - 19s 773us/sample - loss: 0.1193 - accuracy: 0.9591 - val_loss: 0.6022 - val_accuracy: 0.8109\n",
      "Epoch 8/10\n",
      "25000/25000 [==============================] - 20s 789us/sample - loss: 0.1004 - accuracy: 0.9647 - val_loss: 0.5984 - val_accuracy: 0.8092\n",
      "Epoch 9/10\n",
      "25000/25000 [==============================] - 20s 790us/sample - loss: 0.0857 - accuracy: 0.9692 - val_loss: 0.6384 - val_accuracy: 0.8104\n",
      "Epoch 10/10\n",
      "25000/25000 [==============================] - 20s 802us/sample - loss: 0.0770 - accuracy: 0.9740 - val_loss: 0.6312 - val_accuracy: 0.8102\n"
     ]
    }
   ],
   "source": [
    "saved_model = model.fit(x_train, y_train,\n",
    "                       batch_size=400,\n",
    "                       epochs=10,\n",
    "                       validation_data=(x_test, y_test))"
   ]
  },
  {
   "cell_type": "code",
   "execution_count": 25,
   "metadata": {
    "Collapsed": "false"
   },
   "outputs": [
    {
     "data": {
      "image/png": "[encoded data removed]",
      "text/plain": [
       "<Figure size 432x288 with 1 Axes>"
      ]
     },
     "metadata": {
      "needs_background": "light"
     },
     "output_type": "display_data"
    }
   ],
   "source": [
    "import matplotlib.pyplot as plt\n",
    "\n",
    "# Plot training & validation loss values\n",
    "plt.plot(saved_model.history['loss'])\n",
    "plt.plot(saved_model.history['val_loss'])\n",
    "plt.title('Model loss')\n",
    "plt.ylabel('Loss')\n",
    "plt.xlabel('Epoch')\n",
    "plt.legend(['Train', 'Test'], loc='upper left')\n",
    "plt.show();"
   ]
  },
  {
   "cell_type": "code",
   "execution_count": 26,
   "metadata": {
    "Collapsed": "false"
   },
   "outputs": [],
   "source": [
    "from tensorflow.keras.callbacks import LambdaCallback\n",
    "from tensorflow.keras.models import Sequential\n",
    "from tensorflow.keras.layers import Dense, LSTM\n",
    "from tensorflow.keras.optimizers import RMSprop\n",
    "\n",
    "import numpy as np\n",
    "import random\n",
    "import sys\n",
    "import os"
   ]
  },
  {
   "cell_type": "code",
   "execution_count": 27,
   "metadata": {
    "Collapsed": "false"
   },
   "outputs": [],
   "source": [
    "data_files = os.listdir('./articles')"
   ]
  },
  {
   "cell_type": "code",
   "execution_count": 28,
   "metadata": {
    "Collapsed": "false"
   },
   "outputs": [],
   "source": [
    "data = []\n",
    "\n",
    "for file in data_files:\n",
    "    if file[-3:] == 'txt':\n",
    "        with open(f'./articles/{file}', 'r', encoding='utf-8') as f:\n",
    "            data.append(f.read())"
   ]
  },
  {
   "cell_type": "code",
   "execution_count": 30,
   "metadata": {
    "Collapsed": "false"
   },
   "outputs": [
    {
     "ename": "NameError",
     "evalue": "name 'tensorflow' is not defined",
     "output_type": "error",
     "traceback": [
      "\u001b[1;31m---------------------------------------------------------------------------\u001b[0m",
      "\u001b[1;31mNameError\u001b[0m                                 Traceback (most recent call last)",
      "\u001b[1;32m<ipython-input-30-1bce0b5d4087>\u001b[0m in \u001b[0;36m<module>\u001b[1;34m\u001b[0m\n\u001b[1;32m----> 1\u001b[1;33m \u001b[0mtensorflow\u001b[0m\u001b[1;33m.\u001b[0m\u001b[0mtest\u001b[0m\u001b[1;33m.\u001b[0m\u001b[0mis_gpu_available\u001b[0m\u001b[1;33m(\u001b[0m\u001b[1;33m)\u001b[0m\u001b[1;33m\u001b[0m\u001b[0m\n\u001b[0m",
      "\u001b[1;31mNameError\u001b[0m: name 'tensorflow' is not defined"
     ]
    }
   ],
   "source": []
  },
  {
   "cell_type": "markdown",
   "metadata": {
    "Collapsed": "false",
    "colab_type": "text",
    "id": "uT3UV3gap9H6"
   },
   "source": [
    "## Stretch goals:\n",
    "- Refine the training and generation of text to be able to ask for different genres/styles of Shakespearean text (e.g. plays versus sonnets)\n",
    "- Train a classification model that takes text and returns which work of Shakespeare it is most likely to be from\n",
    "- Make it more performant! Many possible routes here - lean on Keras, optimize the code, and/or use more resources (AWS, etc.)\n",
    "- Revisit the news example from class, and improve it - use categories or tags to refine the model/generation, or train a news classifier\n",
    "- Run on bigger, better data\n",
    "\n",
    "## Resources:\n",
    "- [The Unreasonable Effectiveness of Recurrent Neural Networks](https://karpathy.github.io/2015/05/21/rnn-effectiveness/) - a seminal writeup demonstrating a simple but effective character-level NLP RNN\n",
    "- [Simple NumPy implementation of RNN](https://github.com/JY-Yoon/RNN-Implementation-using-NumPy/blob/master/RNN%20Implementation%20using%20NumPy.ipynb) - Python 3 version of the code from \"Unreasonable Effectiveness\"\n",
    "- [TensorFlow RNN Tutorial](https://github.com/tensorflow/models/tree/master/tutorials/rnn) - code for training a RNN on the Penn Tree Bank language dataset\n",
    "- [4 part tutorial on RNN](http://www.wildml.com/2015/09/recurrent-neural-networks-tutorial-part-1-introduction-to-rnns/) - relates RNN to the vanishing gradient problem, and provides example implementation\n",
    "- [RNN training tips and tricks](https://github.com/karpathy/char-rnn#tips-and-tricks) - some rules of thumb for parameterizing and training your RNN"
   ]
  }
 ],
 "metadata": {
  "kernelspec": {
   "display_name": "U4-S3 (Python3)",
   "language": "python",
   "name": "u4-s3"
  },
  "language_info": {
   "codemirror_mode": {
    "name": "ipython",
    "version": 3
   },
   "file_extension": ".py",
   "mimetype": "text/x-python",
   "name": "python",
   "nbconvert_exporter": "python",
   "pygments_lexer": "ipython3",
   "version": "3.7.0"
  }
 },
 "nbformat": 4,
 "nbformat_minor": 4
}
